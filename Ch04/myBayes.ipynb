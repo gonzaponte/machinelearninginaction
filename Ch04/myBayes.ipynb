{
 "cells": [
  {
   "cell_type": "code",
   "execution_count": 1,
   "metadata": {
    "collapsed": false
   },
   "outputs": [
    {
     "name": "stderr",
     "output_type": "stream",
     "text": [
      "/Applications/anaconda3/lib/python3.5/site-packages/matplotlib/font_manager.py:273: UserWarning: Matplotlib is building the font cache using fc-list. This may take a moment.\n",
      "  warnings.warn('Matplotlib is building the font cache using fc-list. This may take a moment.')\n",
      "/Applications/anaconda3/lib/python3.5/site-packages/matplotlib/font_manager.py:273: UserWarning: Matplotlib is building the font cache using fc-list. This may take a moment.\n",
      "  warnings.warn('Matplotlib is building the font cache using fc-list. This may take a moment.')\n"
     ]
    }
   ],
   "source": [
    "import numpy as np\n",
    "import myBayes as bayes"
   ]
  },
  {
   "cell_type": "code",
   "execution_count": 56,
   "metadata": {
    "collapsed": false
   },
   "outputs": [
    {
     "name": "stdout",
     "output_type": "stream",
     "text": [
      "The autoreload extension is already loaded. To reload it, use:\n",
      "  %reload_ext autoreload\n"
     ]
    }
   ],
   "source": [
    "import matplotlib.pyplot as plt\n",
    "%matplotlib inline\n",
    "%load_ext autoreload\n",
    "%autoreload 2"
   ]
  },
  {
   "cell_type": "markdown",
   "metadata": {},
   "source": [
    "# Dummy data set"
   ]
  },
  {
   "cell_type": "code",
   "execution_count": 3,
   "metadata": {
    "collapsed": true
   },
   "outputs": [],
   "source": [
    "words, labels = bayes.load_data_set()"
   ]
  },
  {
   "cell_type": "markdown",
   "metadata": {},
   "source": [
    "#### Get vocabulary"
   ]
  },
  {
   "cell_type": "code",
   "execution_count": 4,
   "metadata": {
    "collapsed": false
   },
   "outputs": [
    {
     "data": {
      "text/plain": [
       "array(['I', 'ate', 'buying', 'cute', 'dalmation', 'dog', 'flea', 'food',\n",
       "       'garbage', 'has', 'help', 'him', 'how', 'is', 'licks', 'love',\n",
       "       'maybe', 'mr', 'my', 'not', 'park', 'please', 'posting', 'problems',\n",
       "       'quit', 'so', 'steak', 'stop', 'stupid', 'take', 'to', 'worthless'], \n",
       "      dtype='<U9')"
      ]
     },
     "execution_count": 4,
     "metadata": {},
     "output_type": "execute_result"
    }
   ],
   "source": [
    "vocab = bayes.vocabulary(words)\n",
    "vocab"
   ]
  },
  {
   "cell_type": "markdown",
   "metadata": {},
   "source": [
    "#### Transform to vectors"
   ]
  },
  {
   "cell_type": "code",
   "execution_count": 5,
   "metadata": {
    "collapsed": false
   },
   "outputs": [
    {
     "data": {
      "text/plain": [
       "array([[0, 0, 0, 0, 0, 1, 1, 0, 0, 1, 1, 0, 0, 0, 0, 0, 0, 0, 1, 0, 0, 1,\n",
       "        0, 1, 0, 0, 0, 0, 0, 0, 0, 0],\n",
       "       [0, 0, 0, 0, 0, 1, 0, 0, 0, 0, 0, 1, 0, 0, 0, 0, 1, 0, 0, 1, 1, 0,\n",
       "        0, 0, 0, 0, 0, 0, 1, 1, 1, 0],\n",
       "       [1, 0, 0, 1, 1, 0, 0, 0, 0, 0, 0, 1, 0, 1, 0, 1, 0, 0, 1, 0, 0, 0,\n",
       "        0, 0, 0, 1, 0, 0, 0, 0, 0, 0],\n",
       "       [0, 0, 0, 0, 0, 0, 0, 0, 1, 0, 0, 0, 0, 0, 0, 0, 0, 0, 0, 0, 0, 0,\n",
       "        1, 0, 0, 0, 0, 1, 1, 0, 0, 1],\n",
       "       [0, 1, 0, 0, 0, 0, 0, 0, 0, 0, 0, 1, 1, 0, 1, 0, 0, 1, 1, 0, 0, 0,\n",
       "        0, 0, 0, 0, 1, 1, 0, 0, 1, 0],\n",
       "       [0, 0, 1, 0, 0, 1, 0, 1, 0, 0, 0, 0, 0, 0, 0, 0, 0, 0, 0, 0, 0, 0,\n",
       "        0, 0, 1, 0, 0, 0, 1, 0, 0, 1]])"
      ]
     },
     "execution_count": 5,
     "metadata": {},
     "output_type": "execute_result"
    }
   ],
   "source": [
    "vectors = bayes.dataset_to_vector(vocab, words)\n",
    "vectors"
   ]
  },
  {
   "cell_type": "markdown",
   "metadata": {},
   "source": [
    "#### Train"
   ]
  },
  {
   "cell_type": "code",
   "execution_count": 6,
   "metadata": {
    "collapsed": false
   },
   "outputs": [],
   "source": [
    "class_probs, label_probs = bayes.train(vectors, labels)"
   ]
  },
  {
   "cell_type": "code",
   "execution_count": 7,
   "metadata": {
    "collapsed": false
   },
   "outputs": [
    {
     "name": "stdout",
     "output_type": "stream",
     "text": [
      "{'abusive': array([-3.04452244, -3.04452244, -2.35137526, -3.04452244, -3.04452244,\n",
      "       -1.94591015, -3.04452244, -2.35137526, -2.35137526, -3.04452244,\n",
      "       -3.04452244, -2.35137526, -3.04452244, -3.04452244, -3.04452244,\n",
      "       -3.04452244, -2.35137526, -3.04452244, -3.04452244, -2.35137526,\n",
      "       -2.35137526, -3.04452244, -2.35137526, -3.04452244, -2.35137526,\n",
      "       -3.04452244, -3.04452244, -2.35137526, -1.65822808, -2.35137526,\n",
      "       -2.35137526, -1.94591015]), 'non abusive': array([-2.56494936, -2.56494936, -3.25809654, -2.56494936, -2.56494936,\n",
      "       -2.56494936, -2.56494936, -3.25809654, -3.25809654, -2.56494936,\n",
      "       -2.56494936, -2.15948425, -2.56494936, -2.56494936, -2.56494936,\n",
      "       -2.56494936, -3.25809654, -2.56494936, -1.87180218, -3.25809654,\n",
      "       -3.25809654, -2.56494936, -3.25809654, -2.56494936, -3.25809654,\n",
      "       -2.56494936, -2.56494936, -2.56494936, -3.25809654, -3.25809654,\n",
      "       -2.56494936, -3.25809654])}\n",
      "{'abusive': -0.69314718055994529, 'non abusive': -0.69314718055994529}\n"
     ]
    }
   ],
   "source": [
    "print(class_probs)\n",
    "print(label_probs)"
   ]
  },
  {
   "cell_type": "markdown",
   "metadata": {},
   "source": [
    "#### Classify"
   ]
  },
  {
   "cell_type": "code",
   "execution_count": 8,
   "metadata": {
    "collapsed": false
   },
   "outputs": [
    {
     "name": "stdout",
     "output_type": "stream",
     "text": [
      "non abusive\n"
     ]
    }
   ],
   "source": [
    "test_data = bayes.to_vector(vocab, ['love', 'my', 'dalmation'])\n",
    "classifier_output = bayes.classify(class_probs, label_probs, test_data)\n",
    "print(classifier_output)"
   ]
  },
  {
   "cell_type": "code",
   "execution_count": 9,
   "metadata": {
    "collapsed": false
   },
   "outputs": [
    {
     "name": "stdout",
     "output_type": "stream",
     "text": [
      "abusive\n"
     ]
    }
   ],
   "source": [
    "test_data = bayes.to_vector(vocab, ['stupid', 'garbage'])\n",
    "classifier_output = bayes.classify(class_probs, label_probs, test_data)\n",
    "print(classifier_output)"
   ]
  },
  {
   "cell_type": "code",
   "execution_count": 10,
   "metadata": {
    "collapsed": false
   },
   "outputs": [
    {
     "name": "stdout",
     "output_type": "stream",
     "text": [
      "['maybe' 'not' 'so' 'I' 'garbage' 'problems' 'so' 'has' 'steak' 'please']\n",
      "non abusive\n"
     ]
    }
   ],
   "source": [
    "test_text = np.random.choice(vocab, size=10)\n",
    "test_data = bayes.to_vector(vocab, test_text)\n",
    "classifier_output = bayes.classify(class_probs, label_probs, test_data)\n",
    "print(test_text)\n",
    "print(classifier_output)"
   ]
  },
  {
   "cell_type": "markdown",
   "metadata": {},
   "source": [
    "# Mail data set"
   ]
  },
  {
   "cell_type": "markdown",
   "metadata": {},
   "source": [
    "#### Average error rate"
   ]
  },
  {
   "cell_type": "code",
   "execution_count": 11,
   "metadata": {
    "collapsed": false
   },
   "outputs": [
    {
     "name": "stderr",
     "output_type": "stream",
     "text": [
      "/Users/Gonzalo/github/machinelearninginaction/Ch04/myBayes.py:26: FutureWarning: split() requires a non-empty pattern match.\n",
      "  regex.split(text)))\n"
     ]
    },
    {
     "data": {
      "text/plain": [
       "7.0999999999999996"
      ]
     },
     "execution_count": 11,
     "metadata": {},
     "output_type": "execute_result"
    }
   ],
   "source": [
    "np.mean(list(bayes.test_spam(0.8) for i in range(100)))"
   ]
  },
  {
   "cell_type": "markdown",
   "metadata": {},
   "source": [
    "# Feed data set"
   ]
  },
  {
   "cell_type": "markdown",
   "metadata": {},
   "source": [
    "#### Average error rate"
   ]
  },
  {
   "cell_type": "code",
   "execution_count": 51,
   "metadata": {
    "collapsed": false
   },
   "outputs": [
    {
     "name": "stderr",
     "output_type": "stream",
     "text": [
      "/Users/Gonzalo/github/machinelearninginaction/Ch04/myBayes.py:27: FutureWarning: split() requires a non-empty pattern match.\n",
      "  regex.split(text)))\n"
     ]
    },
    {
     "data": {
      "text/plain": [
       "29.899999999999999"
      ]
     },
     "execution_count": 51,
     "metadata": {},
     "output_type": "execute_result"
    }
   ],
   "source": [
    "np.mean([bayes.test_feeds() for i in range(100)])"
   ]
  },
  {
   "cell_type": "markdown",
   "metadata": {},
   "source": [
    "#### Error rate as a function of the number of top words ignored"
   ]
  },
  {
   "cell_type": "code",
   "execution_count": 58,
   "metadata": {
    "collapsed": false
   },
   "outputs": [
    {
     "name": "stderr",
     "output_type": "stream",
     "text": [
      "/Users/Gonzalo/github/machinelearninginaction/Ch04/myBayes.py:27: FutureWarning: split() requires a non-empty pattern match.\n",
      "  regex.split(text)))\n"
     ]
    },
    {
     "data": {
      "text/plain": [
       "[<matplotlib.lines.Line2D at 0x10d5142e8>]"
      ]
     },
     "execution_count": 58,
     "metadata": {},
     "output_type": "execute_result"
    },
    {
     "data": {
      "image/png": "[encoded data removed]",
      "text/plain": [
       "<matplotlib.figure.Figure at 0x10d657f98>"
      ]
     },
     "metadata": {},
     "output_type": "display_data"
    }
   ],
   "source": [
    "plt.plot([np.mean([bayes.test_feeds(0.8, tr).error_rate for i in range(50)]) for tr in range(-30, -10)])"
   ]
  },
  {
   "cell_type": "markdown",
   "metadata": {},
   "source": [
    "#### Print top words for each city"
   ]
  },
  {
   "cell_type": "code",
   "execution_count": 80,
   "metadata": {
    "collapsed": false
   },
   "outputs": [
    {
     "name": "stdout",
     "output_type": "stream",
     "text": [
      "In NY the top-used words are ['her' 'would' 'can' 'that' 'with' 'you' 'looking' 'the' 'and' 'for']\n",
      "In SF the top-used words are ['bay' 'got' 'who' 'like' 'the' 'with' 'you' 'looking' 'for' 'and']\n"
     ]
    },
    {
     "name": "stderr",
     "output_type": "stream",
     "text": [
      "/Users/Gonzalo/github/machinelearninginaction/Ch04/myBayes.py:28: FutureWarning: split() requires a non-empty pattern match.\n",
      "  \n"
     ]
    }
   ],
   "source": [
    "_, class_probs, label_probs, vocab = bayes.test_feeds()\n",
    "for lbl, probs in class_probs.items():\n",
    "    print(\"In {} the top-used words are {}\".format(lbl,\n",
    "                                                   vocab[np.argsort(probs)[-10:]]))\n",
    "    "
   ]
  }
 ],
 "metadata": {
  "anaconda-cloud": {},
  "kernelspec": {
   "display_name": "Python [default]",
   "language": "python",
   "name": "python3"
  },
  "language_info": {
   "codemirror_mode": {
    "name": "ipython",
    "version": 3
   },
   "file_extension": ".py",
   "mimetype": "text/x-python",
   "name": "python",
   "nbconvert_exporter": "python",
   "pygments_lexer": "ipython3",
   "version": "3.5.2"
  }
 },
 "nbformat": 4,
 "nbformat_minor": 2
}
