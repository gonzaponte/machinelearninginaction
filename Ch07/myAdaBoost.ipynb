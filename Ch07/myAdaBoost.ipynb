{
 "cells": [
  {
   "cell_type": "raw",
   "metadata": {},
   "source": [
    "import sys, os\n",
    "sys.path.append(os.getcwd()[:-5])\n",
    "print(sys.path)"
   ]
  },
  {
   "cell_type": "code",
   "execution_count": 79,
   "metadata": {
    "collapsed": true
   },
   "outputs": [],
   "source": [
    "import numpy as np\n",
    "import matplotlib.pyplot as plt\n",
    "import myAdaBoost as adab\n",
    "from utils import plot, npmap"
   ]
  },
  {
   "cell_type": "code",
   "execution_count": 80,
   "metadata": {
    "collapsed": false
   },
   "outputs": [
    {
     "name": "stdout",
     "output_type": "stream",
     "text": [
      "The autoreload extension is already loaded. To reload it, use:\n",
      "  %reload_ext autoreload\n"
     ]
    }
   ],
   "source": [
    "%matplotlib inline\n",
    "%load_ext autoreload\n",
    "%autoreload 2"
   ]
  },
  {
   "cell_type": "code",
   "execution_count": 81,
   "metadata": {
    "collapsed": true
   },
   "outputs": [],
   "source": [
    "plt.rcParams[\"figure.figsize\"] = 10, 8"
   ]
  },
  {
   "cell_type": "markdown",
   "metadata": {},
   "source": [
    "# Dummy data set"
   ]
  },
  {
   "cell_type": "code",
   "execution_count": 82,
   "metadata": {
    "collapsed": true
   },
   "outputs": [],
   "source": [
    "dataset, labels = adab.load_data_set()"
   ]
  },
  {
   "cell_type": "code",
   "execution_count": 83,
   "metadata": {
    "collapsed": false
   },
   "outputs": [
    {
     "data": {
      "image/png": "[encoded data removed]",
      "text/plain": [
       "<matplotlib.figure.Figure at 0x10ab4f710>"
      ]
     },
     "metadata": {},
     "output_type": "display_data"
    }
   ],
   "source": [
    "plot(dataset, labels)"
   ]
  },
  {
   "cell_type": "code",
   "execution_count": 84,
   "metadata": {
    "collapsed": false
   },
   "outputs": [
    {
     "data": {
      "text/plain": [
       "{'comparator': <ufunc 'less_equal'>,\n",
       " 'error': 0.20000000000000001,\n",
       " 'feature': 0,\n",
       " 'prediction': array([-1,  1, -1, -1,  1]),\n",
       " 'threshold': 1.3}"
      ]
     },
     "execution_count": 84,
     "metadata": {},
     "output_type": "execute_result"
    }
   ],
   "source": [
    "adab.stump(dataset, labels, np.ones_like(labels)/labels.size)"
   ]
  },
  {
   "cell_type": "code",
   "execution_count": 85,
   "metadata": {
    "collapsed": false
   },
   "outputs": [
    {
     "data": {
      "text/plain": [
       "[{'alpha': 0.69314718055994529,\n",
       "  'comparator': <ufunc 'less_equal'>,\n",
       "  'error': 0.20000000000000001,\n",
       "  'feature': 0,\n",
       "  'prediction': array([-1,  1, -1, -1,  1]),\n",
       "  'threshold': 1.3},\n",
       " {'alpha': 0.9729550745276565,\n",
       "  'comparator': <ufunc 'less_equal'>,\n",
       "  'error': 0.12500000000000003,\n",
       "  'feature': 1,\n",
       "  'prediction': array([ 1,  1, -1, -1, -1]),\n",
       "  'threshold': 1.0},\n",
       " {'alpha': 0.89587973461402726,\n",
       "  'comparator': <ufunc 'greater'>,\n",
       "  'error': 0.1428571428571429,\n",
       "  'feature': 0,\n",
       "  'prediction': array([1, 1, 1, 1, 1]),\n",
       "  'threshold': 2.0}]"
      ]
     },
     "execution_count": 85,
     "metadata": {},
     "output_type": "execute_result"
    }
   ],
   "source": [
    "classifier_params = adab.train_adaboost(dataset, labels, 0, 11, 30)\n",
    "classifier_params"
   ]
  },
  {
   "cell_type": "code",
   "execution_count": 86,
   "metadata": {
    "collapsed": true
   },
   "outputs": [],
   "source": [
    "classifier = adab.get_classifier(classifier_params)"
   ]
  },
  {
   "cell_type": "code",
   "execution_count": 87,
   "metadata": {
    "collapsed": false
   },
   "outputs": [
    {
     "data": {
      "text/plain": [
       "array([-1., -1.,  1.,  1.,  1.,  1.])"
      ]
     },
     "execution_count": 87,
     "metadata": {},
     "output_type": "execute_result"
    }
   ],
   "source": [
    "classifier(np.array([[i]*2 for i in range(6)]))"
   ]
  },
  {
   "cell_type": "markdown",
   "metadata": {},
   "source": [
    "# Horse colic data set"
   ]
  },
  {
   "cell_type": "code",
   "execution_count": 90,
   "metadata": {
    "collapsed": false,
    "scrolled": true
   },
   "outputs": [
    {
     "name": "stdout",
     "output_type": "stream",
     "text": [
      "26.865671641791046\n",
      "22.388059701492537\n",
      "23.880597014925375\n",
      "20.895522388059703\n",
      "22.388059701492537\n",
      "20.895522388059703\n",
      "22.388059701492537\n",
      "22.388059701492537\n",
      "23.880597014925375\n",
      "32.83582089552239\n"
     ]
    },
    {
     "data": {
      "text/plain": [
       "[<matplotlib.lines.Line2D at 0x10e0943c8>]"
      ]
     },
     "execution_count": 90,
     "metadata": {},
     "output_type": "execute_result"
    },
    {
     "data": {
      "image/png": "[encoded data removed]",
      "text/plain": [
       "<matplotlib.figure.Figure at 0x10d9ca898>"
      ]
     },
     "metadata": {},
     "output_type": "display_data"
    }
   ],
   "source": [
    "its = [1, 5, 10, 20, 50, 100, 200, 500, 1000, 5000]\n",
    "error_rate = [adab.test_horse_colic(max_error=1e-6, nsteps=10, max_iterations=it) for it in its]\n",
    "plt.plot(its, error_rate)"
   ]
  },
  {
   "cell_type": "code",
   "execution_count": 95,
   "metadata": {
    "collapsed": false,
    "scrolled": true
   },
   "outputs": [
    {
     "name": "stdout",
     "output_type": "stream",
     "text": [
      "26.865671641791046\n",
      "26.865671641791046\n",
      "23.880597014925375\n",
      "23.880597014925375\n",
      "25.37313432835821\n",
      "26.865671641791046\n",
      "25.37313432835821\n",
      "23.880597014925375\n",
      "22.388059701492537\n",
      "23.880597014925375\n",
      "20.895522388059703\n",
      "22.388059701492537\n",
      "22.388059701492537\n",
      "20.895522388059703\n",
      "20.895522388059703\n",
      "22.388059701492537\n",
      "22.388059701492537\n",
      "20.895522388059703\n",
      "20.895522388059703\n",
      "22.388059701492537\n",
      "20.895522388059703\n",
      "22.388059701492537\n",
      "20.895522388059703\n",
      "20.895522388059703\n",
      "20.895522388059703\n",
      "20.895522388059703\n",
      "19.402985074626866\n",
      "22.388059701492537\n",
      "19.402985074626866\n",
      "20.895522388059703\n",
      "22.388059701492537\n",
      "22.388059701492537\n",
      "22.388059701492537\n",
      "22.388059701492537\n",
      "20.895522388059703\n",
      "22.388059701492537\n",
      "19.402985074626866\n",
      "20.895522388059703\n",
      "19.402985074626866\n",
      "19.402985074626866\n",
      "19.402985074626866\n",
      "19.402985074626866\n",
      "19.402985074626866\n",
      "19.402985074626866\n",
      "20.895522388059703\n",
      "20.895522388059703\n",
      "20.895522388059703\n",
      "20.895522388059703\n",
      "20.895522388059703\n",
      "22.388059701492537\n",
      "22.388059701492537\n",
      "25.37313432835821\n"
     ]
    },
    {
     "data": {
      "text/plain": [
       "[<matplotlib.lines.Line2D at 0x10d651a58>]"
      ]
     },
     "execution_count": 95,
     "metadata": {},
     "output_type": "execute_result"
    },
    {
     "data": {
      "image/png": "[encoded data removed]",
      "text/plain": [
       "<matplotlib.figure.Figure at 0x10d98a588>"
      ]
     },
     "metadata": {},
     "output_type": "display_data"
    }
   ],
   "source": [
    "its = np.arange(1,50).tolist() + [100, 200, 500]\n",
    "error_rate = [adab.test_horse_colic(max_error=0, nsteps=11, max_iterations=it) for it in its]\n",
    "plt.plot(its, error_rate)"
   ]
  },
  {
   "cell_type": "code",
   "execution_count": null,
   "metadata": {
    "collapsed": true
   },
   "outputs": [],
   "source": []
  }
 ],
 "metadata": {
  "kernelspec": {
   "display_name": "Python 3",
   "language": "python",
   "name": "python3"
  },
  "language_info": {
   "codemirror_mode": {
    "name": "ipython",
    "version": 3
   },
   "file_extension": ".py",
   "mimetype": "text/x-python",
   "name": "python",
   "nbconvert_exporter": "python",
   "pygments_lexer": "ipython3",
   "version": "3.5.2"
  }
 },
 "nbformat": 4,
 "nbformat_minor": 2
}
